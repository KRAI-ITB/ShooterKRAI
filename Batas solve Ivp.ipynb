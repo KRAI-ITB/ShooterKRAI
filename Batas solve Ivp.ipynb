{
 "cells": [
  {
   "cell_type": "code",
   "execution_count": 79,
   "metadata": {},
   "outputs": [
    {
     "name": "stdout",
     "output_type": "stream",
     "text": [
      " {(True, -4.233426392619355e-59)}\n"
     ]
    }
   ],
   "source": [
    "import math\n",
    "def RestriksiKontinyu (a,x,b,c,y,d,e,z,f):\n",
    "   #Fungsi nilai\n",
    "   alpha = 1e-2\n",
    "   try: \n",
    "      Result = -math.exp(-alpha/((x-a)*(b-x)))*math.exp(-alpha/((y-c)*(d-y)))*math.exp(-alpha/((z-e)*(f-z)))\n",
    "   \n",
    "   except ZeroDivisionError:\n",
    "      Result = 0.0\n",
    "\n",
    "   if Result<0:\n",
    "      IsIn = True\n",
    "   else:\n",
    "      IsIn = False\n",
    "\n",
    "   return IsIn,Result\n",
    "\n",
    "#Test batas\n",
    "#Limit X\n",
    "BackPostX_L = 6.78\n",
    "BackPostX_U = 6.8\n",
    "\n",
    "#Limit Y\n",
    "BackPostY_L = -0.900 #Y>-0.900\n",
    "BackPostY_U = 0.900 #Y<0.90\n",
    "BackPostZ_L = 2.38 #Z>2.38\n",
    "BackPostZ_U = 3.33 #Z<2.58\n",
    "\n",
    "X = 6.785\n",
    "Y = 0\n",
    "Z = 2.39\n",
    "\n",
    "print(f\"\",{RestriksiKontinyu(BackPostX_L,X,BackPostX_U,BackPostY_L,Y,BackPostY_U,BackPostZ_L,Z,BackPostZ_U)})"
   ]
  },
  {
   "cell_type": "code",
   "execution_count": 76,
   "metadata": {},
   "outputs": [
    {
     "name": "stdout",
     "output_type": "stream",
     "text": [
      " {(False, -0.0)}\n"
     ]
    }
   ],
   "source": [
    "X = 6.79\n",
    "Y = 0\n",
    "Z = 2.39\n",
    "\n",
    "print(f\"\",{RestriksiKontinyu(BackPostX_L,X,BackPostX_U,BackPostY_L,Y,BackPostY_U,BackPostZ_L,Z,BackPostZ_U)})"
   ]
  },
  {
   "cell_type": "code",
   "execution_count": null,
   "metadata": {},
   "outputs": [],
   "source": []
  }
 ],
 "metadata": {
  "kernelspec": {
   "display_name": "Python 3",
   "language": "python",
   "name": "python3"
  },
  "language_info": {
   "codemirror_mode": {
    "name": "ipython",
    "version": 3
   },
   "file_extension": ".py",
   "mimetype": "text/x-python",
   "name": "python",
   "nbconvert_exporter": "python",
   "pygments_lexer": "ipython3",
   "version": "3.11.5"
  }
 },
 "nbformat": 4,
 "nbformat_minor": 2
}
