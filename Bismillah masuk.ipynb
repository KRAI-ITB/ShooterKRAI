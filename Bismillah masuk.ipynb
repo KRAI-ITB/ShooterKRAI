{
 "cells": [
  {
   "cell_type": "code",
   "execution_count": 4,
   "metadata": {},
   "outputs": [
    {
     "ename": "SyntaxError",
     "evalue": "expected ':' (2594813395.py, line 10)",
     "output_type": "error",
     "traceback": [
      "\u001b[1;36m  Cell \u001b[1;32mIn[4], line 10\u001b[1;36m\u001b[0m\n\u001b[1;33m    def calculate_constant (mass, gravity, C_Drag, diameter,rho);\u001b[0m\n\u001b[1;37m                                                                ^\u001b[0m\n\u001b[1;31mSyntaxError\u001b[0m\u001b[1;31m:\u001b[0m expected ':'\n"
     ]
    }
   ],
   "source": [
    "import numpy as np\n",
    "import matplotlib.pyplot as plt\n",
    "from scipy.integrate import solve_ivp\n",
    "\n",
    "    \n",
    "\n",
    "def calculate_constant (mass, gravity, C_Drag, diameter,rho);\n",
    "    a=np.array([0,gravity,0])\n",
    "    b_const=-(C_Drag*rho)/(2*mass)\n",
    "    b=np.array([b_const,b_const,b_const])\n",
    "\n",
    "\n",
    "def ode_system(t, state, a, b):\n",
    "    x, y, z, Vx, Vy, Vz = state\n",
    "    dxdt = Vx\n",
    "    dydt = Vy\n",
    "    dzdt = Vz\n",
    "    dVxdt = a[0] + b[0] * Vx**2\n",
    "    dVydt = a[1] + b[1] * Vy**2\n",
    "    dVzdt = a[2] + b[2] * Vz**2\n",
    "    return [dxdt, dydt, dzdt, dVxdt, dVydt, dVzdt]\n",
    "\n",
    "def check_collision(state, backpost_x, backpost_height_min, backpost_height_max):\n",
    "    x, y = state[0], state[1]\n",
    "    return backpost_x <= x <= backpost_x + 0.1 and backpost_height_min <= y <= backpost_height_max\n",
    "\n",
    "def check_hit(Y_target,Y_tolerance,X_target,X_tolerance,Z_target,Z_tolerance,Y_pos,X_pos,Z_pos):\n",
    "   if np.isclose(Y_pos,Y_target,atol=Y_tolerance) and np.isclose(Z_pos,Z_target,atol=Z_tolerance):\n",
    "         X_hit=X_pos\n",
    "   return X_hit\n",
    "\n",
    "def simulate(initial_conditions,debug_simulation,backpost_x, backpost_height_min, backpost_height_max,a,b,X_target,Y_target,Z_target,X_tol,Y_tol,Z_tol):\n",
    "   if debug_simulation:\n",
    "       x_values = []\n",
    "       y_values = []\n",
    "   time = 0\n",
    "   X_hit=0\n",
    "   last_state = []\n",
    "   Isbounce=False\n",
    "   while True:\n",
    "      t_span = (time, time + 0.001)  # Simulate for 0.1 seconds\n",
    "      sol = solve_ivp(ode_system, t_span, initial_conditions, args=(a, b), dense_output=True)\n",
    "      t_eval = np.linspace(sol.t[0], sol.t[1], 1000)  #Evaluasi 100 titik\n",
    "      state_eval = sol.sol(t_eval)\n",
    "      X_hit = check_hit(Y_target,Y_tol,X_target,X_tol,Z_target,Z_tol,state_eval[1],state_eval[0],state_eval[2])\n",
    "\n",
    "      if debug_simulation:\n",
    "         x_values.extend(state_eval[0])\n",
    "         y_values.extend(state_eval[1])\n",
    "\n",
    "      if np.isclose(X_hit,X_target,X_tol):\n",
    "         Score=1\n",
    "         break\n",
    "\n",
    "   \n",
    "      for m in range(len(state_eval[1])):\n",
    "\n",
    "         if np.isclose(state_eval[1, m], Y_target, atol=0.02):  # Check if y is approximately 2.43\n",
    "            x_hit = state_eval[0, m]  # Update x_hit with the corresponding x value\n",
    "         if check_collision(state_eval[:, m], backpost_x, backpost_height_min, backpost_height_max):\n",
    "            if debug_simulation:\n",
    "               print(f\"Collision detected at time {time:.2f}s: Vx = {state_eval[3, m]:.2f}, Vy = {state_eval[4, m]:.2f}\")  # Debug output\n",
    "               print(f\"Last coordinates before collision: x = {state_eval[0, m]:.2f}, y = {state_eval[1, m]:.2f}\")  # Print last coordinates\n",
    "         Isbounce=True\n",
    "         last_state=[state_eval[0,-1],state_eval[1,-1],state_eval[2,-1],state_eval[3,-1],state_eval[4,-1],state_eval[5,-1]]\n",
    "         break  # Exit the loop if a collision is detected\n",
    "         \n",
    "      \n",
    "   # Check if the projectile has hit the ground\n",
    "      if state_eval[1, -1] <= 0:\n",
    "         if debug_simulation:\n",
    "            print(\"Projectile hit the ground.\")\n",
    "            print(f\"Last coordinates before hitting the ground: x = {state_eval[0, -1]:.2f}, y = {state_eval[1, -1]:.2f}\")  # Print last coordinates\n",
    "         last_state=[state_eval[0,-1],state_eval[1,-1],state_eval[2,-1],state_eval[3,-1],state_eval[4,-1],state_eval[5,-1]]\n",
    "         break  # Exit the main loop if the projectile hits the ground\n",
    "   \n",
    "   return x_hit,Isbounce,last_state,Score\n",
    "    \n"
   ]
  },
  {
   "cell_type": "code",
   "execution_count": null,
   "metadata": {},
   "outputs": [],
   "source": []
  }
 ],
 "metadata": {
  "kernelspec": {
   "display_name": "Python 3",
   "language": "python",
   "name": "python3"
  },
  "language_info": {
   "codemirror_mode": {
    "name": "ipython",
    "version": 3
   },
   "file_extension": ".py",
   "mimetype": "text/x-python",
   "name": "python",
   "nbconvert_exporter": "python",
   "pygments_lexer": "ipython3",
   "version": "3.11.5"
  }
 },
 "nbformat": 4,
 "nbformat_minor": 2
}
